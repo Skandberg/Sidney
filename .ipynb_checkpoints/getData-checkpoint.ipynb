{
 "cells": [
  {
   "cell_type": "code",
   "execution_count": null,
   "metadata": {},
   "outputs": [],
   "source": [
    "from bs4 import BeautifulSoup\n",
    "import requests\n",
    "import pandas as pd\n",
    "\n",
    "\n",
    "def getMangas():\n",
    "    url='https://nhentai.net/'\n",
    "    source = requests.get(url).text\n",
    "    soup = BeautifulSoup(source, 'lxml')\n",
    "\n",
    "    mangas=soup.find_all('div', class_='caption')\n",
    "    links=soup.find_all('a', href=True, class_='cover')\n",
    "\n",
    "    mangaTitles=[]\n",
    "    mangaLinks=[]\n",
    "    mangaLists=[]\n",
    "    mangaTags=[]\n",
    "    for i in mangas:\n",
    "        mangaTitles.append(i.text)\n",
    "    for i in links:\n",
    "        mangaLinks.append(url+i.get('href'))\n",
    "        mangaSource = requests.get(url+i.get('href')).text\n",
    "        mangaSoup=BeautifulSoup(mangaSource,'lxml')\n",
    "        tags= mangaSoup.find_all('span',class_='name')\n",
    "        temp_tags=[]\n",
    "        for j in tags:\n",
    "            temp_tags.append(j.text)\n",
    "        mangaTags.append('; '.join(temp_tags))\n",
    "\n",
    "\n",
    "    mangaList = list(zip(mangaTitles, mangaLinks, mangaTags))\n",
    "\n",
    "    df=pd.DataFrame(mangaList, columns=['title', 'link', 'tags'])\n",
    "    df.to_csv('hmanga.csv', index = False)\n",
    "    pd.set_option('display.max_columns', None)\n",
    "    print(df)\n",
    "\n",
    "\n",
    "getMangas()"
   ]
  }
 ],
 "metadata": {
  "kernelspec": {
   "display_name": "Python 3",
   "language": "python",
   "name": "python3"
  },
  "language_info": {
   "codemirror_mode": {
    "name": "ipython",
    "version": 3
   },
   "file_extension": ".py",
   "mimetype": "text/x-python",
   "name": "python",
   "nbconvert_exporter": "python",
   "pygments_lexer": "ipython3",
   "version": "3.9.0"
  }
 },
 "nbformat": 4,
 "nbformat_minor": 4
}
